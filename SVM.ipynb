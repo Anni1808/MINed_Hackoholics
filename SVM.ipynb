{
  "nbformat": 4,
  "nbformat_minor": 0,
  "metadata": {
    "colab": {
      "provenance": [],
      "authorship_tag": "ABX9TyOw0lQeMIWDxlSGRjAVq5JG",
      "include_colab_link": true
    },
    "kernelspec": {
      "name": "python3",
      "display_name": "Python 3"
    },
    "language_info": {
      "name": "python"
    }
  },
  "cells": [
    {
      "cell_type": "markdown",
      "metadata": {
        "id": "view-in-github",
        "colab_type": "text"
      },
      "source": [
        "<a href=\"https://colab.research.google.com/github/Anni1808/MINed_Hackoholics/blob/main/SVM.ipynb\" target=\"_parent\"><img src=\"https://colab.research.google.com/assets/colab-badge.svg\" alt=\"Open In Colab\"/></a>"
      ]
    },
    {
      "cell_type": "code",
      "execution_count": null,
      "metadata": {
        "colab": {
          "base_uri": "https://localhost:8080/"
        },
        "id": "C-eza-QVk-sz",
        "outputId": "8dc49a54-8705-48b7-da55-f86919445bee"
      },
      "outputs": [
        {
          "output_type": "stream",
          "name": "stdout",
          "text": [
            "Fitting 5 folds for each of 12 candidates, totalling 60 fits\n",
            "Best Parameters: {'C': 1, 'gamma': 'scale', 'kernel': 'linear'}\n",
            "\n",
            "Validation Set Performance Metrics:\n",
            "Accuracy: 0.9752\n",
            "Precision: 0.9797\n",
            "Recall: 0.9786\n",
            "F1 Score: 0.9786\n",
            "Confusion Matrix:\n",
            " [[40  0  0  0  0  0  0]\n",
            " [ 3 37  0  0  0  0  0]\n",
            " [ 1  2 37  0  0  0  0]\n",
            " [ 0  0  0 40  0  0  0]\n",
            " [ 0  0  0  0 40  0  0]\n",
            " [ 0  0  0  0  0  2  0]\n",
            " [ 0  0  0  0  0  0 40]]\n",
            "\n",
            "Predictions saved to predictions_malware.csv\n"
          ]
        }
      ],
      "source": [
        "import pandas as pd\n",
        "import numpy as np\n",
        "from sklearn.svm import SVC\n",
        "from sklearn.model_selection import train_test_split, GridSearchCV, StratifiedKFold\n",
        "from sklearn.preprocessing import StandardScaler\n",
        "from sklearn.metrics import accuracy_score, precision_score, recall_score, f1_score, confusion_matrix\n",
        "from sklearn.compose import ColumnTransformer\n",
        "from sklearn.preprocessing import OneHotEncoder\n",
        "\n",
        "# Load training and testing datasets\n",
        "train_path = \"/content/sample_data/final_merged_dataset.csv\"\n",
        "test_path = \"/content/sample_data/aligned_test.csv\"\n",
        "\n",
        "df_train = pd.read_csv(train_path)\n",
        "df_test = pd.read_csv(test_path)\n",
        "\n",
        "# Remove unnamed columns\n",
        "df_train = df_train.loc[:, ~df_train.columns.str.contains('^Unnamed')]\n",
        "df_test = df_test.loc[:, ~df_test.columns.str.contains('^Unnamed')]\n",
        "\n",
        "# Check for 'Type' column existence in training data\n",
        "if 'Type' not in df_train.columns:\n",
        "    raise KeyError(\"'Type' column is missing from the training dataset.\")\n",
        "\n",
        "# Separate features and target from training data\n",
        "y_train = df_train[\"Type\"]\n",
        "\n",
        "# Identify common numeric and categorical columns for both datasets\n",
        "common_columns = list(set(df_train.columns) & set(df_test.columns))\n",
        "numeric_columns = [col for col in common_columns if pd.api.types.is_numeric_dtype(df_train[col])]\n",
        "categorical_columns = [col for col in common_columns if pd.api.types.is_object_dtype(df_train[col])]\n",
        "\n",
        "# Prepare features for training and testing datasets\n",
        "X_train = df_train[numeric_columns + categorical_columns]\n",
        "X_test = df_test[numeric_columns + categorical_columns]\n",
        "\n",
        "# Create preprocessor for handling mixed data types\n",
        "preprocessor = ColumnTransformer(\n",
        "    transformers=[\n",
        "        ('num', StandardScaler(), numeric_columns),\n",
        "        ('cat', OneHotEncoder(handle_unknown='ignore'), categorical_columns)\n",
        "    ])\n",
        "\n",
        "# Prepare data\n",
        "X_train_processed = preprocessor.fit_transform(X_train)\n",
        "X_test_processed = preprocessor.transform(X_test)\n",
        "\n",
        "# Split the training data into training and validation subsets\n",
        "X_train_split, X_val_split, y_train_split, y_val_split = train_test_split(\n",
        "    X_train_processed, y_train, test_size=0.2, random_state=42, stratify=y_train\n",
        ")\n",
        "\n",
        "# Hyperparameter tuning using GridSearchCV\n",
        "param_grid = {\n",
        "    'C': [0.1, 1, 10],\n",
        "    'gamma': ['scale', 'auto'],\n",
        "    'kernel': ['rbf', 'linear']\n",
        "}\n",
        "kfold = StratifiedKFold(n_splits=5, shuffle=True, random_state=42)\n",
        "\n",
        "grid_search = GridSearchCV(SVC(), param_grid, cv=kfold, scoring='accuracy', verbose=1, n_jobs=-1)\n",
        "grid_search.fit(X_train_split, y_train_split)\n",
        "\n",
        "# Best model\n",
        "best_svm = grid_search.best_estimator_\n",
        "print(\"Best Parameters:\", grid_search.best_params_)\n",
        "\n",
        "# Evaluate the model on the validation subset\n",
        "y_val_pred = best_svm.predict(X_val_split)\n",
        "\n",
        "# Calculate performance metrics on the validation subset\n",
        "accuracy = accuracy_score(y_val_split, y_val_pred)\n",
        "precision = precision_score(y_val_split, y_val_pred, average='macro')\n",
        "recall = recall_score(y_val_split, y_val_pred, average='macro')\n",
        "f1 = f1_score(y_val_split, y_val_pred, average='macro')\n",
        "conf_matrix = confusion_matrix(y_val_split, y_val_pred)\n",
        "\n",
        "# Print results\n",
        "print(\"\\nValidation Set Performance Metrics:\")\n",
        "print(f\"Accuracy: {accuracy:.4f}\")\n",
        "print(f\"Precision: {precision:.4f}\")\n",
        "print(f\"Recall: {recall:.4f}\")\n",
        "print(f\"F1 Score: {f1:.4f}\")\n",
        "print(\"Confusion Matrix:\\n\", conf_matrix)\n",
        "\n",
        "# Prediction on test dataset (without true labels)\n",
        "y_pred = best_svm.predict(X_test_processed)\n",
        "\n",
        "# Save predictions along with SHA256 hashes to a CSV file\n",
        "predictions_df = pd.DataFrame({\n",
        "    'SHA256': df_test['SHA256'],  # Assuming SHA256 is present in the test data\n",
        "    'Predictions': y_pred  # Predicted labels from the model\n",
        "})\n",
        "\n",
        "predictions_df.to_csv('predictions_malware.csv', index=False)\n",
        "\n",
        "print(\"\\nPredictions saved to predictions_malware.csv\")"
      ]
    },
    {
      "cell_type": "code",
      "source": [],
      "metadata": {
        "id": "c6WNHFQ5lZXZ"
      },
      "execution_count": null,
      "outputs": []
    }
  ]
}