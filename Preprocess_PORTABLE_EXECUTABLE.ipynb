{
  "cells": [
    {
      "cell_type": "code",
      "execution_count": 2,
      "metadata": {
        "colab": {
          "base_uri": "https://localhost:8080/"
        },
        "id": "AJd2d09WwYNq",
        "outputId": "be1c32d2-c933-49bf-f6f0-2a79546f4803"
      },
      "outputs": [
        {
          "output_type": "stream",
          "name": "stdout",
          "text": [
            "AdaBoost Accuracy: 0.5932536141352847\n"
          ]
        },
        {
          "output_type": "stream",
          "name": "stderr",
          "text": [
            "PermutationExplainer explainer: 5604it [30:09,  3.09it/s]\n"
          ]
        }
      ],
      "source": [
        "import pandas as pd\n",
        "from sklearn.ensemble import AdaBoostClassifier\n",
        "from sklearn.model_selection import train_test_split\n",
        "import shap\n",
        "from sklearn.metrics import accuracy_score\n",
        "import numpy as np\n",
        "\n",
        "# Load the training and testing datasets\n",
        "train_df = pd.read_csv('/content/portable_executable.csv')\n",
        "test_df = pd.read_csv('/content/test.csv')\n",
        "\n",
        "train_df = train_df.drop(['SHA256'], axis=1)\n",
        "# Define features and target variable\n",
        "X_train = train_df.drop('Type', axis=1)\n",
        "y_train = train_df['Type']\n",
        "\n",
        "# Extract features present in both training and testing datasets\n",
        "common_features = list(set(X_train.columns) & set(test_df.columns))\n",
        "X_train = X_train[common_features]\n",
        "extracted_test_df = test_df[common_features]  # Select common features from test.csv\n",
        "extracted_test_df.to_csv('extracted_test_records.csv', index=False)  # Save to a new file\n",
        "\n",
        "# Split the training data\n",
        "X_train, X_val, y_train, y_val = train_test_split(X_train, y_train, test_size=0.2, random_state=42)\n",
        "\n",
        "# Train AdaBoost model\n",
        "model = AdaBoostClassifier(random_state=42)\n",
        "model.fit(X_train, y_train)\n",
        "\n",
        "# Predict on validation data\n",
        "y_pred = model.predict(X_val)\n",
        "\n",
        "# Calculate accuracy\n",
        "accuracy = accuracy_score(y_val, y_pred)\n",
        "print(f\"AdaBoost Accuracy: {accuracy}\")\n",
        "\n",
        "# Apply SHAP for feature importance\n",
        "explainer = shap.Explainer(model.predict, X_train)\n",
        "shap_values = explainer(X_val)\n",
        "\n",
        "# Extract important features based on SHAP values\n",
        "important_features = X_val.columns[np.abs(shap_values.values).mean(0).argsort()[::-1]]\n",
        "\n",
        "# Extract selected features from the training dataset\n",
        "extracted_features_df = train_df[important_features]\n",
        "\n",
        "# Save extracted features to a CSV file\n",
        "extracted_features_df.to_csv('extracted_features.csv', index=False)"
      ]
    },
    {
      "cell_type": "code",
      "execution_count": 3,
      "metadata": {
        "colab": {
          "base_uri": "https://localhost:8080/"
        },
        "id": "9EBT9_-iJw9S",
        "outputId": "fa07950a-1674-48c6-acb9-4caff38ffe49"
      },
      "outputs": [
        {
          "output_type": "execute_result",
          "data": {
            "text/plain": [
              "(28014, 142)"
            ]
          },
          "metadata": {},
          "execution_count": 3
        }
      ],
      "source": [
        "extracted_df=pd.read_csv('/content/extracted_features.csv')\n",
        "extracted_df.shape"
      ]
    },
    {
      "cell_type": "code",
      "execution_count": 4,
      "metadata": {
        "colab": {
          "base_uri": "https://localhost:8080/"
        },
        "id": "KzgWO0apKf-8",
        "outputId": "a91998b9-cebb-4a07-e724-bab2e17a5b2d"
      },
      "outputs": [
        {
          "output_type": "execute_result",
          "data": {
            "text/plain": [
              "(1480, 142)"
            ]
          },
          "metadata": {},
          "execution_count": 4
        }
      ],
      "source": [
        "extracted_test=pd.read_csv('/content/extracted_test_records.csv')\n",
        "extracted_test.shape"
      ]
    },
    {
      "cell_type": "code",
      "execution_count": 6,
      "metadata": {
        "id": "mQ1zyT6VOnSl"
      },
      "outputs": [],
      "source": [
        "from sklearn.preprocessing import LabelEncoder, OneHotEncoder\n",
        "import numpy as np\n",
        "# --- Preprocessing for extracted_features_type.csv ---\n",
        "extracted_features_df = pd.read_csv('/content/extracted_features_type.csv')\n",
        "\n",
        "# Identify categorical features for preprocessing\n",
        "categorical_features_extracted = extracted_features_df.select_dtypes(include=['object']).columns.tolist()\n",
        "  # Exclude 'Type' if it's your target\n",
        "\n",
        "# One-Hot Encoding for extracted features\n",
        "ohe_extracted = OneHotEncoder(sparse_output=False, handle_unknown='ignore')\n",
        "encoded_data_extracted = ohe_extracted.fit_transform(extracted_features_df[categorical_features_extracted])\n",
        "encoded_df_extracted = pd.DataFrame(encoded_data_extracted, columns=ohe_extracted.get_feature_names_out(categorical_features_extracted))\n",
        "extracted_features_df = extracted_features_df.drop(categorical_features_extracted, axis=1)\n",
        "extracted_features_df = pd.concat([extracted_features_df, encoded_df_extracted], axis=1)\n",
        "\n",
        "# Save preprocessed extracted features\n",
        "extracted_features_df.to_csv('preprocessed_extracted_features.csv', index=False)\n",
        "\n",
        "# --- Preprocessing for extracted_test_records.csv ---\n",
        "extracted_test_df = pd.read_csv('/content/extracted_test_records.csv')\n",
        "\n",
        "# Identify categorical features for preprocessing\n",
        "categorical_features_test = extracted_test_df.select_dtypes(include=['object']).columns.tolist()\n",
        "\n",
        "# One-Hot Encoding for test records\n",
        "encoded_data_test = ohe_extracted.transform(extracted_test_df[categorical_features_test])  # Use the same OHE object\n",
        "encoded_df_test = pd.DataFrame(encoded_data_test, columns=ohe_extracted.get_feature_names_out(categorical_features_test))\n",
        "extracted_test_df = extracted_test_df.drop(categorical_features_test, axis=1)\n",
        "extracted_test_df = pd.concat([extracted_test_df, encoded_df_test], axis=1)\n",
        "\n",
        "# Save preprocessed test records"
      ]
    },
    {
      "cell_type": "code",
      "execution_count": 7,
      "metadata": {
        "colab": {
          "base_uri": "https://localhost:8080/"
        },
        "id": "gM-ECyigRmEV",
        "outputId": "6a67d589-4e6b-4bc1-c503-123ac3a7044c"
      },
      "outputs": [
        {
          "output_type": "stream",
          "name": "stderr",
          "text": [
            "<ipython-input-7-ea688e7f6ed4>:5: DeprecationWarning: DataFrameGroupBy.apply operated on the grouping columns. This behavior is deprecated, and in a future version of pandas the grouping columns will be excluded from the operation. Either pass `include_groups=False` to exclude the groupings or explicitly select the grouping columns after groupby to silence this warning.\n",
            "  sampled_df = preprocessed_df.groupby('Type').apply(lambda x: x.sample(n=200, random_state=42)).reset_index(drop=True)\n"
          ]
        }
      ],
      "source": [
        "# Load the preprocessed extracted features\n",
        "preprocessed_df = pd.read_csv('/content/preprocessed_extracted_features.csv')\n",
        "\n",
        "# Sample 500 records from each 'Type' class\n",
        "sampled_df = preprocessed_df.groupby('Type').apply(lambda x: x.sample(n=200, random_state=42)).reset_index(drop=True)\n",
        "\n",
        "# Save the sampled data to a new CSV file\n",
        "sampled_df.to_csv('sampled_extracted_features_finall.csv', index=False)"
      ]
    }
  ],
  "metadata": {
    "colab": {
      "provenance": []
    },
    "kernelspec": {
      "display_name": "Python 3",
      "name": "python3"
    },
    "language_info": {
      "name": "python"
    }
  },
  "nbformat": 4,
  "nbformat_minor": 0
}